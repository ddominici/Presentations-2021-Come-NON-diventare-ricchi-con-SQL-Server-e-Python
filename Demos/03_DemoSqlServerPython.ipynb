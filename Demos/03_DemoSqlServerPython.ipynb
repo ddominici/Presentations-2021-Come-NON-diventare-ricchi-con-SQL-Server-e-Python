{
    "metadata": {
        "kernelspec": {
            "name": "python3",
            "display_name": "Python 3",
            "language": "python"
        },
        "language_info": {
            "name": "python",
            "version": "3.6.6",
            "mimetype": "text/x-python",
            "codemirror_mode": {
                "name": "ipython",
                "version": 3
            },
            "pygments_lexer": "ipython3",
            "nbconvert_exporter": "python",
            "file_extension": ".py"
        }
    },
    "nbformat_minor": 2,
    "nbformat": 4,
    "cells": [
        {
            "cell_type": "markdown",
            "source": [
                "# Come NON diventare ricchi con Python\n",
                "\n",
                "Questa sessione è pensata per dare qualche spunto pratico a chi ha la necessità di manipolare i dati usando Python e SQL Server.\n",
                "\n",
                "Il notebook che state guardando è solo la prima parte, giusto per prendere confidenza con Python e con le librerie usate per la manipolazione dei dati (pandas e numpy) e quelle per il plotting dei dati (matplotlib e plotly).\n",
                "\n",
                "Ci sono tonnellate di librerie per Python, alcune anche legate al mondo finanziario e questa sessione non ha assolutamente la pretesa di elencarle o dimostrarle tutte... A voi il divertimento ! :-)\n",
                "\n",
                "  \n",
                "\n",
                "Mi raccomando!!! Le demo che vedrete servono solamente a darvi qualche idea, **NON** usatele per giocare in borsa con soldi veri!!!"
            ],
            "metadata": {
                "azdata_cell_guid": "debf7d0a-35d7-41a4-84be-87b4108802f4"
            }
        },
        {
            "cell_type": "code",
            "source": [
                "import datetime\r\n",
                "import pandas as pd\r\n",
                "import pandas_datareader as web\r\n",
                "import numpy as np"
            ],
            "metadata": {
                "azdata_cell_guid": "c20c8615-8e4f-4f58-b7e1-5da516838445",
                "tags": []
            },
            "outputs": [],
            "execution_count": null
        },
        {
            "cell_type": "markdown",
            "source": [
                "## Scaricare i dati finanziari da Yahoo Finance\n",
                "\n",
                "Uno dei (pochi) siti da cui è possibile scaricare gratuitamente i valori degli scambi di borsa di titoli o ETF è Yahoo Finance.\n",
                "\n",
                "Esempio: [https://finance.yahoo.com/quote/MSFT/history?p=MSFT](https://finance.yahoo.com/quote/MSFT/history?p=MSFT)\n",
                "\n",
                "  \n",
                "\n",
                "La libreria **pandas\\_datareader** ha una funzione per scaricare i dati storici dal sito Yahoo Finance indicando il simbolo dell'azione/ETF ed i range di data di cui scaricare i dati."
            ],
            "metadata": {
                "azdata_cell_guid": "abb31f75-fafb-4338-ad09-d5f39e425a39"
            }
        },
        {
            "cell_type": "code",
            "source": [
                "#\r\n",
                "# Demo - Scaricare i dati storici da Yahoo Finance\r\n",
                "#\r\n",
                "start_date = datetime.datetime(2020, 1, 1) \r\n",
                "end_date   = datetime.date.today()\r\n",
                "symbol     = 'MSFT'\r\n",
                "\r\n",
                "data = web.DataReader(symbol, 'yahoo', start_date, end_date)\r\n",
                "\r\n",
                "#data.head(5) \r\n",
                "\r\n",
                "data.tail(5)\r\n",
                "\r\n",
                "#print(data)"
            ],
            "metadata": {
                "azdata_cell_guid": "5b65cca3-1f6e-4876-b9af-e91e3cbf9963"
            },
            "outputs": [],
            "execution_count": null
        },
        {
            "cell_type": "markdown",
            "source": [
                "## Che cosa fare con i dati scaricati ?\n",
                "\n",
                "Una volta scaricati i dati storici di un azione o ETF si possono calcolare alcuni indicatori che sono alla base delle più comuni strategie di trading.\n",
                "\n",
                "Quelli che utilizzeremo in questi esempi sono:\n",
                "\n",
                "\\- Media mobile esponenziale (Exponential Mobile Average, EMA)\n",
                "\n",
                "\\- Media mobile semplice (Simple Moving Average, SMA)\n",
                "\n",
                "\\- Convergenza e divergenza di medie mobili (Moving average convergence divergence, MACD) [Wikipedia](https://it.wikipedia.org/wiki/MACD)\n",
                "\n",
                "\\- Bande di Bollinger"
            ],
            "metadata": {
                "azdata_cell_guid": "ca8bc162-2e05-4030-b285-c5b9a820a76f"
            }
        },
        {
            "cell_type": "code",
            "source": [
                "#\r\n",
                "# Demo - Calcolo gli indicatori statistici\r\n",
                "#\r\n",
                "\r\n",
                "data.reset_index(inplace=True,drop=False)\r\n",
                "\r\n",
                "# Medie mobili a 12 e 26 giorni\r\n",
                "data['12d_EMA'] = data.Close.ewm(span=12, adjust=False).mean()\r\n",
                "data['26d_EMA'] = data.Close.ewm(span=26, adjust=False).mean()\r\n",
                "\r\n",
                "# Bollinger bands\r\n",
                "data['20d_SMA'] = data['Close'].rolling(window=20).mean()\r\n",
                "data['20d_STD'] = data['Close'].rolling(window=20).std()\r\n",
                "data['Bollinger_H'] = data['20d_SMA'] + (data['20d_STD'] * 2)\r\n",
                "data['Bollinger_L'] = data['20d_SMA'] - (data['20d_STD'] * 2)\r\n",
                "\r\n",
                "# MACD\r\n",
                "data['macd'] = data['12d_EMA'] - data['26d_EMA'] \r\n",
                "data['macdsignal'] = data.macd.ewm(span=9, adjust=False).mean()\r\n",
                "data['trading_signal'] = np.where(data['macd'] >= data['macdsignal'], 1, -1)\r\n",
                "\r\n",
                "data.tail(5)"
            ],
            "metadata": {
                "azdata_cell_guid": "f305185b-353c-412f-a4cc-ebf84c2d995d"
            },
            "outputs": [],
            "execution_count": null
        },
        {
            "cell_type": "markdown",
            "source": [
                "## Plotting dei dati\n",
                "\n",
                "Non è proprio facilissimo leggere la tabella appena vista, giusto?  \n",
                "Allora per semplificarci la vita ed avere un \"colpo d'occhio\" più efficace nel capire se è il momento di acquistare o di vendere un bel grafico è quello che ci vuole!\n",
                "\n",
                "La libreria **matplotlib** ci fornisce la possibilità di creare grafici in modo molto semplice e veloce..."
            ],
            "metadata": {
                "azdata_cell_guid": "f756e1a4-71e6-4434-a902-25a04a76006d"
            }
        },
        {
            "cell_type": "code",
            "source": [
                "#\r\n",
                "# Demo - Plot degli indicatori usando la libreria matplotlib\r\n",
                "#\r\n",
                "import matplotlib.pyplot as plt\r\n",
                "\r\n",
                "data_to_plot = data #data.iloc[-30:]\r\n",
                "\r\n",
                "plt.style.use('seaborn-muted')\r\n",
                "\r\n",
                "fig, ax = plt.subplots(1, 2, figsize=(28, 10))\r\n",
                "\r\n",
                "ax[0].set(title = 'Indicators - ' + symbol, ylabel = 'Price in Euros', xlabel = 'Date')\r\n",
                "data_to_plot[['Date','Close','12d_EMA','26d_EMA','Bollinger_H','Bollinger_L']].plot(ax=ax[0], x='Date')\r\n",
                "\r\n",
                "ax[1].set_title('MACD - ' + symbol)\r\n",
                "data_to_plot[['Date','macd','macdsignal']].plot(ax=ax[1], x='Date')\r\n",
                "\r\n",
                "plt.legend()\r\n",
                "\r\n",
                "#filename = basePath + ticker + '_1.png'\r\n",
                "#plt.savefig(filename)\r\n",
                "\r\n",
                "plt.show()"
            ],
            "metadata": {
                "azdata_cell_guid": "10224aa4-5953-4980-9041-1c9e66b2b984"
            },
            "outputs": [],
            "execution_count": null
        },
        {
            "cell_type": "markdown",
            "source": [
                "Oppure posso utilizzare la libreria **Plotly**, più interattiva e con alcune tipologie di grafici già pronte all'uso per i dati finanziari (es. i grafici candlestick)"
            ],
            "metadata": {
                "azdata_cell_guid": "b483fa7c-ad09-4a4f-8ccb-6e7672a81f0b"
            }
        },
        {
            "cell_type": "code",
            "source": [
                "#\r\n",
                "# Demo - Plot degli indcatori usando la libreria Plotly\r\n",
                "#\r\n",
                "from plotly.subplots import make_subplots\r\n",
                "import plotly.graph_objects as go\r\n",
                "\r\n",
                "# Creo il grafico per gli ultimi 90 giorni\r\n",
                "data_to_plot = data.iloc[-90:]\r\n",
                "\r\n",
                "# Imposto la data come indice del dataframe\r\n",
                "data_to_plot.set_index('Date', inplace=True)\r\n",
                "\r\n",
                "# Creo tre grafici, in verticale, di altezza variabile\r\n",
                "fig = make_subplots(rows=3,\r\n",
                "                    cols=1,\r\n",
                "                    shared_xaxes=True,\r\n",
                "                    vertical_spacing=0.02,\r\n",
                "                    row_width=[0.1, 0.1, 0.8]\r\n",
                "                    )\r\n",
                "\r\n",
                "# Primo grafico: candlestick con i dati di minimo, massimo, apertura e chiusura degli scambi\r\n",
                "fig.add_trace(\r\n",
                "    go.Candlestick(\r\n",
                "        x=data_to_plot.index,\r\n",
                "        low=data_to_plot['Low'],\r\n",
                "        high=data_to_plot['High'],\r\n",
                "        close=data_to_plot['Close'],\r\n",
                "        open=data_to_plot['Open'],\r\n",
                "        increasing_line_color='green',\r\n",
                "        decreasing_line_color='red'\r\n",
                "    ),\r\n",
                "    row=1,\r\n",
                "    col=1\r\n",
                ")\r\n",
                "\r\n",
                "# Secondo grafico: volume degli scambi del titolo\r\n",
                "fig.add_trace(go.Bar(x=data_to_plot.index, y=data_to_plot['Volume']), row=2, col=1)\r\n",
                "\r\n",
                "# Terzo grafico: segnale di trading calcolato sull'indicatore MACD visto in precedenza\r\n",
                "fig.add_trace(go.Bar(x=data_to_plot.index, y=data_to_plot['trading_signal']), row=3, col=1)\r\n",
                "\r\n",
                "# Impostazioni grafico\r\n",
                "fig.layout.xaxis1.type = 'category'\r\n",
                "fig.layout.xaxis2.type = 'category'\r\n",
                "fig.layout.xaxis3.type = 'category'\r\n",
                "\r\n",
                "today = datetime.datetime.today().strftime(\"%d-%m-%Y\")\r\n",
                "title = \"Interactive CandleStick & Volume Chart {symbol} - {date}\".format(symbol=symbol, date=today)\r\n",
                "\r\n",
                "fig.update_layout(title=title,\r\n",
                "                yaxis1_title='Close (€)',\r\n",
                "                yaxis2_title='Volume (M)',\r\n",
                "                xaxis2_title='Time',\r\n",
                "                xaxis1_rangeslider_visible=False,\r\n",
                "                xaxis2_rangeslider_visible=False)\r\n",
                "\r\n",
                "# Visualizzo il grafico\r\n",
                "fig.show()\r\n",
                "\r\n",
                "# Se voglio, posso salvare il grafico (statico) in formato png/jpeg/tiff\r\n",
                "#filename = \"./images/%s.png\" % symbol\r\n",
                "#fig.write_image(filename, width=1024, height=800, scale=2)\r\n",
                ""
            ],
            "metadata": {
                "azdata_cell_guid": "855fcefb-2922-4e62-9ea6-293e8b0fb5b7"
            },
            "outputs": [],
            "execution_count": null
        },
        {
            "cell_type": "markdown",
            "source": [
                "## Bene, e ora?\n",
                "\n",
                "Fin qui tutto chiaro? Bene.\n",
                "\n",
                "Ora viene la parte più divertente, memorizzare i dati su SQL Server ed attingere dal database per leggere i dati, calcolare indicatori e magari generare notifiche quando cambia il trading signal di un azione o ETF.\n",
                "\n",
                "  \n",
                "\n",
                "Let's go!"
            ],
            "metadata": {
                "azdata_cell_guid": "a309525c-7197-4605-be4f-59d9cecc6cec"
            }
        }
    ]
}